{
  "nbformat": 4,
  "nbformat_minor": 0,
  "metadata": {
    "colab": {
      "name": "Untitled1.ipynb",
      "provenance": []
    },
    "kernelspec": {
      "name": "python3",
      "display_name": "Python 3"
    },
    "language_info": {
      "name": "python"
    }
  },
  "cells": [
    {
      "cell_type": "code",
      "metadata": {
        "id": "8OaIUwvLKHAD"
      },
      "source": [
        "import pandas as pd"
      ],
      "execution_count": 2,
      "outputs": []
    },
    {
      "cell_type": "code",
      "metadata": {
        "colab": {
          "base_uri": "https://localhost:8080/"
        },
        "id": "fJXrys2WKQR_",
        "outputId": "eb3207ba-dfd4-4e6c-ada4-80773dc7b0ab"
      },
      "source": [
        "from google.colab import drive\n",
        "drive.mount('/gdrive')\n",
        "%cd /gdrive"
      ],
      "execution_count": 2,
      "outputs": [
        {
          "output_type": "stream",
          "name": "stdout",
          "text": [
            "Mounted at /gdrive\n",
            "/gdrive\n"
          ]
        }
      ]
    },
    {
      "cell_type": "code",
      "metadata": {
        "id": "--VawxSCKchv"
      },
      "source": [
        "content/drive/MyDrive/Life Expectancy Data.cs"
      ],
      "execution_count": null,
      "outputs": []
    },
    {
      "cell_type": "code",
      "metadata": {
        "id": "Qn1lZ2DtVKDh"
      },
      "source": [
        "d=pd.read_csv('/content/drive/MyDrive/Life Expectancy Data.csv')"
      ],
      "execution_count": 3,
      "outputs": []
    },
    {
      "cell_type": "code",
      "metadata": {
        "colab": {
          "base_uri": "https://localhost:8080/"
        },
        "id": "CP2Iy4SIVO0k",
        "outputId": "33cc1adc-1333-488b-b41c-7f75f973d2a8"
      },
      "source": [
        "print(d)"
      ],
      "execution_count": 4,
      "outputs": [
        {
          "output_type": "stream",
          "name": "stdout",
          "text": [
            "          Country  Year  ... Income composition of resources  Schooling\n",
            "0     Afghanistan  2015  ...                           0.479       10.1\n",
            "1     Afghanistan  2014  ...                           0.476       10.0\n",
            "2     Afghanistan  2013  ...                           0.470        9.9\n",
            "3     Afghanistan  2012  ...                           0.463        9.8\n",
            "4     Afghanistan  2011  ...                           0.454        9.5\n",
            "...           ...   ...  ...                             ...        ...\n",
            "2933     Zimbabwe  2004  ...                           0.407        9.2\n",
            "2934     Zimbabwe  2003  ...                           0.418        9.5\n",
            "2935     Zimbabwe  2002  ...                           0.427       10.0\n",
            "2936     Zimbabwe  2001  ...                           0.427        9.8\n",
            "2937     Zimbabwe  2000  ...                           0.434        9.8\n",
            "\n",
            "[2938 rows x 22 columns]\n"
          ]
        }
      ]
    },
    {
      "cell_type": "code",
      "metadata": {
        "id": "dL7ld0nwVWJo"
      },
      "source": [
        ""
      ],
      "execution_count": null,
      "outputs": []
    }
  ]
}